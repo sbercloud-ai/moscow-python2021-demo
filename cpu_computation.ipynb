{
 "cells": [
  {
   "cell_type": "markdown",
   "id": "644286eb-5a36-4c28-b7bf-979d98207663",
   "metadata": {},
   "source": [
    "# Примеры работы с ML Space\n",
    "\n",
    "Примеры работы с сервисом находятся в репозитории: https://github.com/sbercloud-ai/aicloud-examples"
   ]
  },
  {
   "cell_type": "markdown",
   "id": "e1e0daec-c3e6-4022-8d50-b701f664a027",
   "metadata": {},
   "source": [
    "Нас интересует пример: https://github.com/sbercloud-ai/aicloud-examples/tree/master/quick-start/notebooks_gpu (который мы немного модифицируем)"
   ]
  },
  {
   "cell_type": "markdown",
   "id": "836ed5d7-534c-474d-bd59-ba834765adac",
   "metadata": {},
   "source": [
    "# Intel® oneAPI на ML Space\n",
    "\n",
    "Вся информация находится здесь: https://sbercloud.ru/ru/aicloud/oneapi"
   ]
  },
  {
   "cell_type": "markdown",
   "id": "cc15d890-8447-449b-85d0-dd36600af89e",
   "metadata": {},
   "source": [
    "# Установка Intel® oneAPI"
   ]
  },
  {
   "cell_type": "code",
   "execution_count": null,
   "id": "1e54404b-571b-4519-8853-63d266e3d257",
   "metadata": {},
   "outputs": [],
   "source": [
    "!conda config --add channels intel"
   ]
  },
  {
   "cell_type": "code",
   "execution_count": null,
   "id": "02c3bb4c-7ab4-4636-be64-068f7a5eba9d",
   "metadata": {},
   "outputs": [],
   "source": [
    "!conda install intel-aikit-pytorch"
   ]
  },
  {
   "cell_type": "markdown",
   "id": "8590d93e-9d3a-4a38-a586-4be63487e349",
   "metadata": {},
   "source": [
    "# IPEX\n",
    "Intel Extension for PyTorch (IPEX)\n",
    "\n",
    "oneAPI Deep Neural Network Library (oneDNN)\n",
    "\n",
    "torch.bfloat16 - BF16 auto-mixed-precision"
   ]
  },
  {
   "cell_type": "markdown",
   "id": "74704954-66f5-4da4-b8c7-daed5e572d62",
   "metadata": {},
   "source": [
    "Поменяем стандартное\n",
    "```python\n",
    "device = \"cuda:0\" if torch.cuda.device_count() else \"cpu\"\n",
    "```\n",
    "На констуркцию вида\n",
    "```python\n",
    "if torch.cuda.device_count() > 1:\n",
    "    print(\"Let's use\", torch.cuda.device_count(), \"GPUs!\")\n",
    "    clf = nn.DataParallel(clf)\n",
    "elif torch.cuda.device_count() == 1:\n",
    "    device = torch.device(f'cuda:0')\n",
    "else:\n",
    "    try:\n",
    "        import intel_pytorch_extension as ipex\n",
    "        ipex.enable_auto_mixed_precision(mixed_dtype = torch.bfloat16)\n",
    "        device = ipex.DEVICE\n",
    "    except ImportError:\n",
    "        device = \"cpu\"\n",
    "```"
   ]
  }
 ],
 "metadata": {
  "kernelspec": {
   "display_name": "Python 3 (ipykernel)",
   "language": "python",
   "name": "python3"
  },
  "language_info": {
   "codemirror_mode": {
    "name": "ipython",
    "version": 3
   },
   "file_extension": ".py",
   "mimetype": "text/x-python",
   "name": "python",
   "nbconvert_exporter": "python",
   "pygments_lexer": "ipython3",
   "version": "3.7.10"
  }
 },
 "nbformat": 4,
 "nbformat_minor": 5
}
